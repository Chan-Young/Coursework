{
 "cells": [
  {
   "cell_type": "markdown",
   "metadata": {},
   "source": [
    "# 석사학위 논문\n",
    "* 학교 및 학과: University of Nottingham (UK), MSc Business Analytics\n",
    "* 강의명: Data Driven Dissertation Project in Business Analytics\n",
    "* 년도: 2020\n",
    "* 사용 언어:Python\n",
    "* 석사학위 논문: Decision-making for high-involvement products: Topic modelling using online reviews"
   ]
  },
  {
   "cell_type": "markdown",
   "metadata": {},
   "source": [
    "### **논문 요약**\n",
    "고 관여 상품 (소비자들이 의사결정과정에 관여를 많이 하는 제품)의 의사결정에 주요 주제가 무엇인지 토픽 모델링을 통해 분석한다. 고 관여 상품은 가격이 비싸거나, 쉽게 구매할 수 없는 등의 특징이 있고, 이 논문는 전기 자동차 브랜드 중 하나인 테슬라는 선택했다. 4 개의 온라인 사이트에서 총 965개의 리뷰 데이터를 수집했고, NLP 전처리 과정을 거친 후 LDA를 통해 10개의 주제를 파악했다.  \n",
    "\n",
    "### **데이터 분석 과정**\n",
    "1. 4개의 사이트에서 총 956개의 테슬라 리뷰 데이터 수집 (리뷰 및 별점)\n",
    "2. URLs 및 HTML 제거\n",
    "3. Pronouns를 그에 맞는 object name으로 대체 \n",
    "4. 소문자로 변환 (‘Car’를 ‘car’로 변경)\n",
    "5. Tokenisation\n",
    "6. Part-of-speech (POS) tag를 통해 nouns, verbs, adverbs그리고 adjectives추출\n",
    "7. Stop words 제거 (‘the’, ‘and’ 등)\n",
    "8. 모델명 수정 (‘model’ + ‘x’ = ‘model_x’)\n",
    "9. 부정 표현 대체 (‘no’, ‘nor’ 를 ‘not’으로)\n",
    "10. Lemmatisation: POS tagging을 바탕으로 기본 단어로 변경\n",
    "11. Bigram and trigram: 빈번한 단어 합치기\n",
    "12. Stop words 제거\n",
    "\n",
    "위 전처리 과정을 통해 10가지 주제를 파악했으며 이는 3가지 그룹으로 묶을 수 있다. \n",
    "* General discussion (features of vehicle, security, exterior, comparing brands)\n",
    "* Technology (technology, electric car, high technology car)\n",
    "* Service (delivery request, delivery process, mobile service)\n"
   ]
  },
  {
   "cell_type": "markdown",
   "metadata": {},
   "source": [
    "# Dissertation\n",
    "https://github.com/Chan-Young/Coursework/blob/main/NLP%20and%20LDA%20dissdertation.pdf"
   ]
  },
  {
   "cell_type": "markdown",
   "metadata": {},
   "source": [
    "# **1. Data Scraping**\n",
    "---\n",
    "\n",
    "Sites\n",
    "1. Cars.com\n",
    "2. ComsumerAffair\n",
    "3. Trustpilot "
   ]
  },
  {
   "cell_type": "markdown",
   "metadata": {},
   "source": [
    "##### https://www.cars.com/research/tesla/"
   ]
  },
  {
   "cell_type": "code",
   "execution_count": null,
   "metadata": {},
   "outputs": [],
   "source": [
    " import csv\n",
    " import requests\n",
    " from bs4 import BeautifulSoup"
   ]
  },
  {
   "cell_type": "code",
   "execution_count": 50,
   "metadata": {},
   "outputs": [],
   "source": [
    "ratings = []\n",
    "reviews = []\n",
    "\n",
    "models = ['x',3, 's']\n",
    "years = [2012, 2013, 2014, 2015, 2016, 2017, 2018, 2019, 2020]\n",
    "\n",
    "for model in models:\n",
    "    for year in years:\n",
    "        for page in range(1,11):\n",
    "            url = 'https://www.cars.com/research/tesla-model_{}-{}/consumer-reviews/?pg={}&nr=10'.format(model,year,page)\n",
    "            headers = {'User-Agent': 'Mozilla/5.0 (Macintosh; Intel Mac OS X 10_11_6) AppleWebKit/537.36 (KHTML, like Gecko) Chrome/61.0.3163.100 Safari/537.36','Accept-Encoding': 'gzip, deflate, br','Accept-Language': 'en-US,en;q=0.9,hi;q=0.8'}\n",
    "            r = requests.get(url, headers=headers)\n",
    "            soup = BeautifulSoup(r.text, 'html.parser')\n",
    "    \n",
    "            review_containers = soup.find_all('p', class_ = 'review-card-text')\n",
    "            for review_container in review_containers:\n",
    "                try:\n",
    "                    review = review_container.text.replace(\"\\n\", \" \")\n",
    "                except:\n",
    "                    review = ''\n",
    "                reviews.append(review)\n",
    "\n",
    "            containers=soup.find_all('article', attrs = {'ng-controller':'carsResearchConsumerReviewsReviewCardController as ctrl'})\n",
    "            for container in containers:\n",
    "                try:\n",
    "                    rating = container.find('cars-star-rating').text\n",
    "                    rating = rating[0]\n",
    "                except:\n",
    "                    rating = ''\n",
    "                ratings.append(rating)"
   ]
  },
  {
   "cell_type": "code",
   "execution_count": 51,
   "metadata": {},
   "outputs": [
    {
     "name": "stdout",
     "output_type": "stream",
     "text": [
      "448\n",
      "448\n"
     ]
    }
   ],
   "source": [
    "print(len(reviews))\n",
    "print(len(ratings))"
   ]
  },
  {
   "cell_type": "code",
   "execution_count": 56,
   "metadata": {},
   "outputs": [
    {
     "data": {
      "text/html": [
       "<div>\n",
       "<style scoped>\n",
       "    .dataframe tbody tr th:only-of-type {\n",
       "        vertical-align: middle;\n",
       "    }\n",
       "\n",
       "    .dataframe tbody tr th {\n",
       "        vertical-align: top;\n",
       "    }\n",
       "\n",
       "    .dataframe thead th {\n",
       "        text-align: right;\n",
       "    }\n",
       "</style>\n",
       "<table border=\"1\" class=\"dataframe\">\n",
       "  <thead>\n",
       "    <tr style=\"text-align: right;\">\n",
       "      <th></th>\n",
       "      <th>Review</th>\n",
       "      <th>Rating</th>\n",
       "    </tr>\n",
       "  </thead>\n",
       "  <tbody>\n",
       "    <tr>\n",
       "      <th>0</th>\n",
       "      <td>This is a great electric SUV....</td>\n",
       "      <td>5</td>\n",
       "    </tr>\n",
       "    <tr>\n",
       "      <th>1</th>\n",
       "      <td>The Tesla Model X was one of ...</td>\n",
       "      <td>5</td>\n",
       "    </tr>\n",
       "    <tr>\n",
       "      <th>2</th>\n",
       "      <td>Definitely not a cheap vehicl...</td>\n",
       "      <td>5</td>\n",
       "    </tr>\n",
       "    <tr>\n",
       "      <th>3</th>\n",
       "      <td>Owned this car for a year and...</td>\n",
       "      <td>5</td>\n",
       "    </tr>\n",
       "    <tr>\n",
       "      <th>4</th>\n",
       "      <td>From the head turning falcon ...</td>\n",
       "      <td>5</td>\n",
       "    </tr>\n",
       "  </tbody>\n",
       "</table>\n",
       "</div>"
      ],
      "text/plain": [
       "                                              Review Rating\n",
       "0                   This is a great electric SUV....      5\n",
       "1                   The Tesla Model X was one of ...      5\n",
       "2                   Definitely not a cheap vehicl...      5\n",
       "3                   Owned this car for a year and...      5\n",
       "4                   From the head turning falcon ...      5"
      ]
     },
     "execution_count": 56,
     "metadata": {},
     "output_type": "execute_result"
    }
   ],
   "source": [
    "Cars_dic = {'Review':reviews, 'Rating':ratings}\n",
    "Cars = pd.DataFrame(Cars_dic)\n",
    "Cars.head()"
   ]
  },
  {
   "cell_type": "code",
   "execution_count": 58,
   "metadata": {},
   "outputs": [
    {
     "data": {
      "text/plain": [
       "5    396\n",
       "4     23\n",
       "1     16\n",
       "3      7\n",
       "2      6\n",
       "Name: Rating, dtype: int64"
      ]
     },
     "execution_count": 58,
     "metadata": {},
     "output_type": "execute_result"
    }
   ],
   "source": [
    "Cars.Rating.value_counts()"
   ]
  },
  {
   "cell_type": "code",
   "execution_count": 59,
   "metadata": {},
   "outputs": [],
   "source": [
    "Cars.to_csv(r'C:\\Users\\chanl\\Untitled Folder\\Cars.csv', index=False)"
   ]
  },
  {
   "cell_type": "code",
   "execution_count": 60,
   "metadata": {},
   "outputs": [
    {
     "data": {
      "text/html": [
       "<div>\n",
       "<style scoped>\n",
       "    .dataframe tbody tr th:only-of-type {\n",
       "        vertical-align: middle;\n",
       "    }\n",
       "\n",
       "    .dataframe tbody tr th {\n",
       "        vertical-align: top;\n",
       "    }\n",
       "\n",
       "    .dataframe thead th {\n",
       "        text-align: right;\n",
       "    }\n",
       "</style>\n",
       "<table border=\"1\" class=\"dataframe\">\n",
       "  <thead>\n",
       "    <tr style=\"text-align: right;\">\n",
       "      <th></th>\n",
       "      <th>Review</th>\n",
       "      <th>Rating</th>\n",
       "    </tr>\n",
       "  </thead>\n",
       "  <tbody>\n",
       "    <tr>\n",
       "      <th>0</th>\n",
       "      <td>This is a great electric SUV....</td>\n",
       "      <td>5</td>\n",
       "    </tr>\n",
       "    <tr>\n",
       "      <th>1</th>\n",
       "      <td>The Tesla Model X was one of ...</td>\n",
       "      <td>5</td>\n",
       "    </tr>\n",
       "    <tr>\n",
       "      <th>2</th>\n",
       "      <td>Definitely not a cheap vehicl...</td>\n",
       "      <td>5</td>\n",
       "    </tr>\n",
       "    <tr>\n",
       "      <th>3</th>\n",
       "      <td>Owned this car for a year and...</td>\n",
       "      <td>5</td>\n",
       "    </tr>\n",
       "    <tr>\n",
       "      <th>4</th>\n",
       "      <td>From the head turning falcon ...</td>\n",
       "      <td>5</td>\n",
       "    </tr>\n",
       "  </tbody>\n",
       "</table>\n",
       "</div>"
      ],
      "text/plain": [
       "                                              Review  Rating\n",
       "0                   This is a great electric SUV....       5\n",
       "1                   The Tesla Model X was one of ...       5\n",
       "2                   Definitely not a cheap vehicl...       5\n",
       "3                   Owned this car for a year and...       5\n",
       "4                   From the head turning falcon ...       5"
      ]
     },
     "execution_count": 60,
     "metadata": {},
     "output_type": "execute_result"
    }
   ],
   "source": [
    "df = pd.read_csv('Cars.csv')\n",
    "df.head()"
   ]
  },
  {
   "cell_type": "markdown",
   "metadata": {},
   "source": [
    "# **2. Preprocessing**\n",
    "---"
   ]
  },
  {
   "cell_type": "markdown",
   "metadata": {},
   "source": [
    "## 0. Package preparation"
   ]
  },
  {
   "cell_type": "code",
   "execution_count": 1,
   "metadata": {},
   "outputs": [],
   "source": [
    "# General\n",
    "import pandas as pd\n",
    "import numpy as np\n",
    "from numpy import array\n",
    "import matplotlib.pyplot as plt\n",
    "%matplotlib inline\n",
    "import missingno as msno\n",
    "import itertools\n",
    "from collections import Counter\n",
    "\n",
    "# Preprocessing\n",
    "from nltk.tokenize import RegexpTokenizer\n",
    "import nltk\n",
    "from nltk.corpus import stopwords\n",
    "import spacy\n",
    "\n",
    "import neuralcoref\n",
    "nlp = spacy.load('en')\n",
    "neuralcoref.add_to_pipe(nlp, greedyness=0.5,max_dist=50,blacklist=False)\n",
    "import gensim"
   ]
  },
  {
   "cell_type": "code",
   "execution_count": 2,
   "metadata": {},
   "outputs": [
    {
     "name": "stdout",
     "output_type": "stream",
     "text": [
      "448\n",
      "                                              Review  Rating\n",
      "0                   This is a great electric SUV....       5\n",
      "1                   The Tesla Model X was one of ...       5\n",
      "2                   Definitely not a cheap vehicl...       5\n",
      "3                   Owned this car for a year and...       5\n",
      "4                   From the head turning falcon ...       5\n"
     ]
    }
   ],
   "source": [
    "cars = pd.read_csv('cars.csv')\n",
    "print(len(cars))\n",
    "print(cars.head())"
   ]
  },
  {
   "cell_type": "code",
   "execution_count": 3,
   "metadata": {},
   "outputs": [
    {
     "name": "stdout",
     "output_type": "stream",
     "text": [
      "206\n",
      "                                              Review  Rating\n",
      "0  Tesla decided they didn't like that I had a di...     1.0\n",
      "1  Alliant is the finance company that the Tesla ...     1.0\n",
      "2  Since December of 2019, my 2015 Tesla Model S ...     1.0\n",
      "3  There is essentially no way to talk to a perso...     1.0\n",
      "4  I got an alert to replace the small 12 V Batte...     1.0\n"
     ]
    }
   ],
   "source": [
    "ca = pd.read_csv('Consumer_Affairs.csv')\n",
    "print(len(ca))\n",
    "print(ca.head())"
   ]
  },
  {
   "cell_type": "code",
   "execution_count": 4,
   "metadata": {},
   "outputs": [
    {
     "name": "stdout",
     "output_type": "stream",
     "text": [
      "63\n",
      "                                              Review  Rating\n",
      "0                   I bought a tesla 'demo' new c...     1.0\n",
      "1                   Service at 6692 Auto Center D...     1.0\n",
      "2                   Tesla service unacceptable,Ca...     1.0\n",
      "3                   Blowed my husband on our two ...     4.0\n",
      "4                   I’m so mad at Tesla. Although...     2.0\n"
     ]
    }
   ],
   "source": [
    "t1 = pd.read_csv('Trustpilot1.csv')\n",
    "print(len(t1))\n",
    "print(t1.head())"
   ]
  },
  {
   "cell_type": "code",
   "execution_count": 5,
   "metadata": {},
   "outputs": [
    {
     "name": "stdout",
     "output_type": "stream",
     "text": [
      "241\n",
      "                                              Review  Rating\n",
      "0                   I bought a tesla 'demo' new c...     1.0\n",
      "1                   Tesla did not respond to this...     1.0\n",
      "2                   Must admit tesla service has ...     1.0\n",
      "3                   As of this morning, I think I...     1.0\n",
      "4                   Where to start.  I picked up ...     1.0\n"
     ]
    }
   ],
   "source": [
    "t2 = pd.read_csv('Trustpilot2.csv')\n",
    "print(len(t2))\n",
    "print(t2.head())"
   ]
  },
  {
   "cell_type": "code",
   "execution_count": 6,
   "metadata": {},
   "outputs": [
    {
     "name": "stdout",
     "output_type": "stream",
     "text": [
      "                                              Review  Rating\n",
      "0                   This is a great electric SUV....     5.0\n",
      "1                   The Tesla Model X was one of ...     5.0\n",
      "2                   Definitely not a cheap vehicl...     5.0\n",
      "3                   Owned this car for a year and...     5.0\n",
      "4                   From the head turning falcon ...     5.0\n",
      "958\n"
     ]
    }
   ],
   "source": [
    "raw_review = pd.concat([cars, ca, t1, t2])\n",
    "print(raw_review.head())\n",
    "print(len(raw_review))"
   ]
  },
  {
   "cell_type": "code",
   "execution_count": null,
   "metadata": {},
   "outputs": [],
   "source": [
    "raw_review.to_csv(r'C:\\Users\\chanl\\Dissertation\\raw_review.csv', index=False)"
   ]
  },
  {
   "cell_type": "code",
   "execution_count": 8,
   "metadata": {},
   "outputs": [
    {
     "data": {
      "text/plain": [
       "Review    8\n",
       "Rating    7\n",
       "dtype: int64"
      ]
     },
     "execution_count": 8,
     "metadata": {},
     "output_type": "execute_result"
    }
   ],
   "source": [
    "raw_review.isnull().sum(axis=0)"
   ]
  },
  {
   "cell_type": "code",
   "execution_count": 9,
   "metadata": {},
   "outputs": [
    {
     "data": {
      "text/plain": [
       "<matplotlib.axes._subplots.AxesSubplot at 0x1aca7167b08>"
      ]
     },
     "execution_count": 9,
     "metadata": {},
     "output_type": "execute_result"
    },
    {
     "data": {
      "image/png": "[encoded data removed]",
      "text/plain": [
       "<Figure size 1800x720 with 2 Axes>"
      ]
     },
     "metadata": {
      "needs_background": "light"
     },
     "output_type": "display_data"
    }
   ],
   "source": [
    "msno.matrix(raw_review)"
   ]
  },
  {
   "cell_type": "code",
   "execution_count": 10,
   "metadata": {},
   "outputs": [],
   "source": [
    "raw_review = raw_review.dropna(axis=0)"
   ]
  },
  {
   "cell_type": "code",
   "execution_count": null,
   "metadata": {},
   "outputs": [],
   "source": [
    "raw_review['Review'] = raw_review['Review'].str.strip()"
   ]
  },
  {
   "cell_type": "code",
   "execution_count": 12,
   "metadata": {},
   "outputs": [
    {
     "data": {
      "text/html": [
       "<div>\n",
       "<style scoped>\n",
       "    .dataframe tbody tr th:only-of-type {\n",
       "        vertical-align: middle;\n",
       "    }\n",
       "\n",
       "    .dataframe tbody tr th {\n",
       "        vertical-align: top;\n",
       "    }\n",
       "\n",
       "    .dataframe thead th {\n",
       "        text-align: right;\n",
       "    }\n",
       "</style>\n",
       "<table border=\"1\" class=\"dataframe\">\n",
       "  <thead>\n",
       "    <tr style=\"text-align: right;\">\n",
       "      <th></th>\n",
       "      <th>Review</th>\n",
       "      <th>Rating</th>\n",
       "    </tr>\n",
       "  </thead>\n",
       "  <tbody>\n",
       "    <tr>\n",
       "      <th>0</th>\n",
       "      <td>This is a great electric SUV.  Tesla has reall...</td>\n",
       "      <td>5.0</td>\n",
       "    </tr>\n",
       "    <tr>\n",
       "      <th>1</th>\n",
       "      <td>The Tesla Model X was one of the most over-eng...</td>\n",
       "      <td>5.0</td>\n",
       "    </tr>\n",
       "    <tr>\n",
       "      <th>2</th>\n",
       "      <td>Definitely not a cheap vehicle to purchase (ne...</td>\n",
       "      <td>5.0</td>\n",
       "    </tr>\n",
       "    <tr>\n",
       "      <th>3</th>\n",
       "      <td>Owned this car for a year and a half and is in...</td>\n",
       "      <td>5.0</td>\n",
       "    </tr>\n",
       "    <tr>\n",
       "      <th>4</th>\n",
       "      <td>From the head turning falcon wing doors to the...</td>\n",
       "      <td>5.0</td>\n",
       "    </tr>\n",
       "    <tr>\n",
       "      <th>...</th>\n",
       "      <td>...</td>\n",
       "      <td>...</td>\n",
       "    </tr>\n",
       "    <tr>\n",
       "      <th>938</th>\n",
       "      <td>Best Green Cars - Our Favorite Cars</td>\n",
       "      <td>1.0</td>\n",
       "    </tr>\n",
       "    <tr>\n",
       "      <th>939</th>\n",
       "      <td>Absolutely stunning service &amp; great car!</td>\n",
       "      <td>4.0</td>\n",
       "    </tr>\n",
       "    <tr>\n",
       "      <th>940</th>\n",
       "      <td>I have owned a Model S 85D for 14 months and l...</td>\n",
       "      <td>5.0</td>\n",
       "    </tr>\n",
       "    <tr>\n",
       "      <th>941</th>\n",
       "      <td>good company and deciding to see if I want to ...</td>\n",
       "      <td>5.0</td>\n",
       "    </tr>\n",
       "    <tr>\n",
       "      <th>942</th>\n",
       "      <td>My Tesla Roadster just turned two years old, a...</td>\n",
       "      <td>5.0</td>\n",
       "    </tr>\n",
       "  </tbody>\n",
       "</table>\n",
       "<p>943 rows × 2 columns</p>\n",
       "</div>"
      ],
      "text/plain": [
       "                                                Review  Rating\n",
       "0    This is a great electric SUV.  Tesla has reall...     5.0\n",
       "1    The Tesla Model X was one of the most over-eng...     5.0\n",
       "2    Definitely not a cheap vehicle to purchase (ne...     5.0\n",
       "3    Owned this car for a year and a half and is in...     5.0\n",
       "4    From the head turning falcon wing doors to the...     5.0\n",
       "..                                                 ...     ...\n",
       "938                Best Green Cars - Our Favorite Cars     1.0\n",
       "939           Absolutely stunning service & great car!     4.0\n",
       "940  I have owned a Model S 85D for 14 months and l...     5.0\n",
       "941  good company and deciding to see if I want to ...     5.0\n",
       "942  My Tesla Roadster just turned two years old, a...     5.0\n",
       "\n",
       "[943 rows x 2 columns]"
      ]
     },
     "execution_count": 12,
     "metadata": {},
     "output_type": "execute_result"
    }
   ],
   "source": [
    "raw_review.reset_index(drop=True)"
   ]
  },
  {
   "cell_type": "code",
   "execution_count": null,
   "metadata": {},
   "outputs": [],
   "source": [
    "raw_review.to_csv(r'C:\\Users\\chanl\\Dissertation\\review.csv', index=False)"
   ]
  },
  {
   "cell_type": "code",
   "execution_count": 13,
   "metadata": {},
   "outputs": [
    {
     "data": {
      "text/plain": [
       "numpy.ndarray"
      ]
     },
     "execution_count": 13,
     "metadata": {},
     "output_type": "execute_result"
    }
   ],
   "source": [
    "# Step 1: Import dataset\n",
    "Review = pd.read_csv('review.csv')\n",
    "# Convert to array\n",
    "docs =array(Review['Review'])\n",
    "type(docs)"
   ]
  },
  {
   "cell_type": "markdown",
   "metadata": {},
   "source": [
    "## 2. replace all the pronouns in a text with their respective object names"
   ]
  },
  {
   "cell_type": "code",
   "execution_count": 14,
   "metadata": {},
   "outputs": [],
   "source": [
    "def Pronoun(docs):\n",
    "    for doc in range(len(docs)):\n",
    "        review = nlp(docs[doc])\n",
    "        # Step 2: Replacing pronouns to their object names\n",
    "        resolved_coref = review._.coref_resolved\n",
    "        docs[doc] = resolved_coref\n",
    "    return docs"
   ]
  },
  {
   "cell_type": "code",
   "execution_count": 15,
   "metadata": {},
   "outputs": [],
   "source": [
    "docs = Pronoun(docs)"
   ]
  },
  {
   "cell_type": "code",
   "execution_count": null,
   "metadata": {},
   "outputs": [],
   "source": [
    "np.save('pronoun_final',docs)\n",
    "#docs = np.load('pronoun_final.npy').tolist()"
   ]
  },
  {
   "cell_type": "code",
   "execution_count": 16,
   "metadata": {},
   "outputs": [],
   "source": [
    "docs = docs.tolist()"
   ]
  },
  {
   "cell_type": "markdown",
   "metadata": {},
   "source": [
    "## 3 ~ 5. Lowering case, tokenization, and POS tagging"
   ]
  },
  {
   "cell_type": "code",
   "execution_count": 17,
   "metadata": {},
   "outputs": [],
   "source": [
    "def preprocessing(docs):\n",
    "    key = []\n",
    "    tokenizer = RegexpTokenizer(r'\\w+')\n",
    "    for doc in docs:\n",
    "    # Step 3: Lower case\n",
    "        doc = doc.lower()\n",
    "    # Step 4: Tokenization\n",
    "        doc = tokenizer.tokenize(doc)\n",
    "    # Step 5: POS tagging\n",
    "        tag = nltk.pos_tag(doc)\n",
    "        text = []\n",
    "        for i in tag:\n",
    "            if i[1].startswith('V') or i[1].startswith('N') or i[1].startswith('R') \\\n",
    "            or i[1].startswith('J'):\n",
    "                text.append(i[0])\n",
    "            \n",
    "        key.append(text)\n",
    "    return(key)"
   ]
  },
  {
   "cell_type": "code",
   "execution_count": 18,
   "metadata": {},
   "outputs": [
    {
     "name": "stdout",
     "output_type": "stream",
     "text": [
      "943\n",
      "['is', 'great', 'electric', 'suv', 'tesla', 'has', 'really', 'outdid', 'tesla', 'design', 'performance', 'technology', 'great', 'electric', 'suv', 'offers', 'have', 'model', 's', 'too', 'prefer', 'model', 's', 'model', 's', 'more', 'nimble', 'is', 'much', 'easier', 'car', 'get', 'compare', 'model', 's', 'model', 's', 'got', 'great', 'clearance', 'ground', 'model', 's', 'handles', 'great', 'heavy', 'suv', 'performance', 'incomparable', 'other', 'suv', 'model', 's', 'category', 'i', 'have', 'person', 'configuration', 'wish', 'i', 'ordered', 'person', 'more', 'cargo', 'space', 'being', 'second', 'row', 'fold', 'down', 'more', 'cargo', 'space', 'overall', 'i', 'think', 'is', 'great', 'car', 'fun', 'drive', 'reliable', 'get', 'notice', 'anywhere', 'everywhere']\n",
      "86\n"
     ]
    }
   ],
   "source": [
    "docs_processed = preprocessing(docs)\n",
    "print(len(docs_processed))\n",
    "print(docs_processed[0])\n",
    "print(len(docs_processed[0]))"
   ]
  },
  {
   "cell_type": "markdown",
   "metadata": {},
   "source": [
    "## 6. Remove stop words"
   ]
  },
  {
   "cell_type": "code",
   "execution_count": 19,
   "metadata": {},
   "outputs": [],
   "source": [
    "stop_words = stopwords.words('english')\n",
    "stop_words.extend(['’', \"'s\", 't',\"'ve\",'x',\"'m\",'“','”','ve',\\\n",
    "                  '–', '..', '‘','…','r/','ev','•','**',\"'re\",'...'])\n",
    "stop_words.remove('no')\n",
    "stop_words.remove('nor')\n",
    "stop_words.remove('not')\n",
    "stop_words.remove('s')\n",
    "stop_words.remove('x')"
   ]
  },
  {
   "cell_type": "code",
   "execution_count": 20,
   "metadata": {},
   "outputs": [],
   "source": [
    "# Step 6: Remove stop words\n",
    "docs_stopword = []\n",
    "for doc in docs_processed:\n",
    "    stop = [wd for wd in doc if wd not in stop_words]\n",
    "    docs_stopword.append(stop)"
   ]
  },
  {
   "cell_type": "code",
   "execution_count": 21,
   "metadata": {},
   "outputs": [
    {
     "name": "stdout",
     "output_type": "stream",
     "text": [
      "['great', 'electric', 'suv', 'tesla', 'really', 'outdid', 'tesla', 'design', 'performance', 'technology', 'great', 'electric', 'suv', 'offers', 'model', 's', 'prefer', 'model', 's', 'model', 's', 'nimble', 'much', 'easier', 'car', 'get', 'compare', 'model', 's', 'model', 's', 'got', 'great', 'clearance', 'ground', 'model', 's', 'handles', 'great', 'heavy', 'suv', 'performance', 'incomparable', 'suv', 'model', 's', 'category', 'person', 'configuration', 'wish', 'ordered', 'person', 'cargo', 'space', 'second', 'row', 'fold', 'cargo', 'space', 'overall', 'think', 'great', 'car', 'fun', 'drive', 'reliable', 'get', 'notice', 'anywhere', 'everywhere']\n"
     ]
    }
   ],
   "source": [
    "print(docs_stopword[0])"
   ]
  },
  {
   "cell_type": "markdown",
   "metadata": {},
   "source": [
    "## 7. Combine two words into a single word"
   ]
  },
  {
   "cell_type": "code",
   "execution_count": 22,
   "metadata": {},
   "outputs": [
    {
     "name": "stdout",
     "output_type": "stream",
     "text": [
      "316\n",
      "['model_s', 'model_s']\n"
     ]
    }
   ],
   "source": [
    "show1 = []\n",
    "word_1 = ['model','model']\n",
    "word_2 = ['s','x']\n",
    "\n",
    "for wd1 in word_1:\n",
    "    for wd2 in word_2:\n",
    "        for re in docs_stopword:\n",
    "            for i,j in enumerate(re): \n",
    "                if j == wd1:\n",
    "                    try: \n",
    "                        # Step 7: Combine two words into a single word\n",
    "                        if re[i+1] == wd2:\n",
    "                            re[i] = (wd1 + '_'+ wd2)\n",
    "                            re.pop(i+1)\n",
    "                            show1.append(re[i])\n",
    "                    except:\n",
    "                        pass\n",
    "print(len(show1))\n",
    "print(show1[:2])"
   ]
  },
  {
   "cell_type": "markdown",
   "metadata": {},
   "source": [
    "## 8. Replacement common negatives of words by prefixing a 'not' to the token words that follow"
   ]
  },
  {
   "cell_type": "code",
   "execution_count": 23,
   "metadata": {},
   "outputs": [
    {
     "name": "stdout",
     "output_type": "stream",
     "text": [
      "911\n",
      "['not_cheap', 'not_pay']\n"
     ]
    }
   ],
   "source": [
    "show3 = []\n",
    "negs = ['none', 'never','no',\"n't\",'not']\n",
    "\n",
    "for re in docs_stopword:\n",
    "    for i,j in enumerate(re):\n",
    "        if j in negs:\n",
    "            try:\n",
    "                re[i] = 'not'\n",
    "                # Step 8: Replacement common negative words\n",
    "                re[i] = (re[i] + '_'+ re[i+1])\n",
    "                re.pop(i+1)\n",
    "                show3.append(re[i])\n",
    "            except:\n",
    "                pass\n",
    "            \n",
    "print(len(show3))\n",
    "print(show3[:2])"
   ]
  },
  {
   "cell_type": "markdown",
   "metadata": {},
   "source": [
    "## 9. Lemmatization"
   ]
  },
  {
   "cell_type": "code",
   "execution_count": 24,
   "metadata": {},
   "outputs": [],
   "source": [
    "def lemmatization(texts, allowed_postags=['NOUN', 'ADJ', 'VERB', 'ADV']):\n",
    "    \"\"\"https://spacy.io/api/annotation\"\"\"\n",
    "    texts_out = []\n",
    "    for sent in texts:\n",
    "        doc = nlp(\" \".join(sent)) \n",
    "        texts_out.append([token.lemma_ for token in doc if token.pos_ in allowed_postags])\n",
    "    return texts_out"
   ]
  },
  {
   "cell_type": "code",
   "execution_count": 25,
   "metadata": {},
   "outputs": [],
   "source": [
    "# Step 9: Lemmatization\n",
    "lemmatized = lemmatization(docs_stopword, allowed_postags=['NOUN', 'ADJ', 'VERB', 'ADV'])"
   ]
  },
  {
   "cell_type": "code",
   "execution_count": null,
   "metadata": {},
   "outputs": [],
   "source": [
    "np.save('lemmatized_final', lemmatized)\n",
    "#lemmatized = np.load('lemmatized2.npy', allow_pickle=True).tolist()"
   ]
  },
  {
   "cell_type": "code",
   "execution_count": 27,
   "metadata": {},
   "outputs": [
    {
     "name": "stdout",
     "output_type": "stream",
     "text": [
      "['perfect', 'combination', 'performance', 'intelligence', 'safety', 'healthiness', 's', 'actually', 'reliable', 'hear', 'issue', 'minor', 'easy', 'fix']\n"
     ]
    }
   ],
   "source": [
    "print(lemmatized[5])"
   ]
  },
  {
   "cell_type": "code",
   "execution_count": 28,
   "metadata": {},
   "outputs": [],
   "source": [
    "for doc in lemmatized:\n",
    "    lemmatized = [[token for token in doc if len(token) > 2] for doc in lemmatized]"
   ]
  },
  {
   "cell_type": "code",
   "execution_count": 29,
   "metadata": {},
   "outputs": [
    {
     "name": "stdout",
     "output_type": "stream",
     "text": [
      "['perfect', 'combination', 'performance', 'intelligence', 'safety', 'healthiness', 'actually', 'reliable', 'hear', 'issue', 'minor', 'easy', 'fix']\n"
     ]
    }
   ],
   "source": [
    "print(lemmatized[5])"
   ]
  },
  {
   "cell_type": "markdown",
   "metadata": {},
   "source": [
    "## 10. Bigram and trigram using genism"
   ]
  },
  {
   "cell_type": "code",
   "execution_count": 30,
   "metadata": {},
   "outputs": [],
   "source": [
    "bigram = gensim.models.Phrases(lemmatized, min_count=10, threshold=5)\n",
    "trigram = gensim.models.Phrases(bigram[lemmatized], threshold=5)  \n",
    "\n",
    "bigram_mod = gensim.models.phrases.Phraser(bigram)\n",
    "trigram_mod = gensim.models.phrases.Phraser(trigram)"
   ]
  },
  {
   "cell_type": "code",
   "execution_count": 31,
   "metadata": {},
   "outputs": [],
   "source": [
    "def make_bigrams(texts):\n",
    "    return [bigram_mod[doc] for doc in texts]"
   ]
  },
  {
   "cell_type": "code",
   "execution_count": 32,
   "metadata": {},
   "outputs": [],
   "source": [
    "def make_trigrams(texts):\n",
    "    return [trigram_mod[bigram_mod[doc]] for doc in texts]"
   ]
  },
  {
   "cell_type": "code",
   "execution_count": 33,
   "metadata": {},
   "outputs": [],
   "source": [
    "# Step 10: Bigram and trigram\n",
    "data_words_bigrams = make_bigrams(lemmatized)\n",
    "data_words_trigrams = make_trigrams(lemmatized)"
   ]
  },
  {
   "cell_type": "markdown",
   "metadata": {},
   "source": [
    "## 11. Remove stop words again"
   ]
  },
  {
   "cell_type": "code",
   "execution_count": 34,
   "metadata": {},
   "outputs": [],
   "source": [
    "stop_words = stopwords.words('english')\n",
    "stop_words.extend(['’', \"'s\", 't',\"'ve\",'x',\"'m\",'“','”','ve',\\\n",
    "                  '–', '..', '‘','…','r/','ev','•','**',\"'re\",'...'])"
   ]
  },
  {
   "cell_type": "code",
   "execution_count": 35,
   "metadata": {},
   "outputs": [],
   "source": [
    "final = []\n",
    "# Step 11: Remove stop words \n",
    "for i in data_words_trigrams:\n",
    "    stop = [wd for wd in i if wd not in stop_words]\n",
    "    final.append(stop)"
   ]
  },
  {
   "cell_type": "code",
   "execution_count": 36,
   "metadata": {},
   "outputs": [
    {
     "data": {
      "text/plain": [
       "['perfect',\n",
       " 'combination',\n",
       " 'performance',\n",
       " 'intelligence',\n",
       " 'safety',\n",
       " 'healthiness',\n",
       " 'actually',\n",
       " 'reliable',\n",
       " 'hear',\n",
       " 'issue',\n",
       " 'minor',\n",
       " 'easy',\n",
       " 'fix']"
      ]
     },
     "execution_count": 36,
     "metadata": {},
     "output_type": "execute_result"
    }
   ],
   "source": [
    "final[5]"
   ]
  },
  {
   "cell_type": "code",
   "execution_count": null,
   "metadata": {},
   "outputs": [],
   "source": [
    "np.save('final_final', final)\n",
    "#final = np.load('final_final.npy', allow_pickle=True).tolist()"
   ]
  },
  {
   "cell_type": "code",
   "execution_count": 37,
   "metadata": {},
   "outputs": [
    {
     "name": "stdout",
     "output_type": "stream",
     "text": [
      "46484\n",
      "5251\n"
     ]
    }
   ],
   "source": [
    "all_words = list(itertools.chain(*final))\n",
    "print(len(all_words))\n",
    "\n",
    "counter = Counter(all_words)\n",
    "print(len(counter))"
   ]
  },
  {
   "cell_type": "code",
   "execution_count": 38,
   "metadata": {},
   "outputs": [],
   "source": [
    "w = dict(counter.most_common(40))"
   ]
  },
  {
   "cell_type": "code",
   "execution_count": 39,
   "metadata": {},
   "outputs": [
    {
     "data": {
      "image/png": "[encoded data removed]",
      "text/plain": [
       "<Figure size 1440x720 with 1 Axes>"
      ]
     },
     "metadata": {
      "needs_background": "light"
     },
     "output_type": "display_data"
    }
   ],
   "source": [
    "plt.figure(figsize=(20,10))\n",
    "plt.bar(w.keys(), w.values())\n",
    "plt.xticks(rotation='vertical')\n",
    "plt.subplots_adjust(bottom=0.15)\n",
    "plt.show()"
   ]
  },
  {
   "cell_type": "markdown",
   "metadata": {},
   "source": [
    "## Step 12: Proning"
   ]
  },
  {
   "cell_type": "markdown",
   "metadata": {},
   "source": [
    "Removing rare and common tokens using Gensim's dictionary with filter_extremes.\n",
    "Value pairs with less than 2 occurrence or more than 10% of total number of sample is removed."
   ]
  },
  {
   "cell_type": "markdown",
   "metadata": {},
   "source": [
    "# **3. LDA Analysis**\n",
    "---"
   ]
  },
  {
   "cell_type": "markdown",
   "metadata": {},
   "source": [
    "## 0. Package preparation"
   ]
  },
  {
   "cell_type": "code",
   "execution_count": 12,
   "metadata": {},
   "outputs": [],
   "source": [
    "# General\n",
    "import pandas as pd\n",
    "import numpy as np\n",
    "import matplotlib.pyplot as plt\n",
    "%matplotlib inline\n",
    "from numpy import array\n",
    "\n",
    "# Modelling\n",
    "import gensim\n",
    "from gensim.corpora.dictionary import Dictionary\n",
    "from gensim import corpora\n",
    "from gensim import models\n",
    "from pprint import pprint\n",
    "from gensim.models.coherencemodel import CoherenceModel\n",
    "import tqdm\n",
    "\n",
    "# Visualisation\n",
    "import seaborn as sns\n",
    "import pyLDAvis.gensim\n",
    "import pickle \n",
    "import pyLDAvis"
   ]
  },
  {
   "cell_type": "markdown",
   "metadata": {},
   "source": [
    "## 1. Data preparation for the LDA analysis"
   ]
  },
  {
   "cell_type": "code",
   "execution_count": 13,
   "metadata": {},
   "outputs": [],
   "source": [
    "final = np.load('final_final.npy', allow_pickle=True).tolist()"
   ]
  },
  {
   "cell_type": "code",
   "execution_count": 14,
   "metadata": {},
   "outputs": [
    {
     "data": {
      "text/plain": [
       "['great',\n",
       " 'electric',\n",
       " 'suv',\n",
       " 'tesla',\n",
       " 'really',\n",
       " 'outdid',\n",
       " 'tesla',\n",
       " 'design',\n",
       " 'performance',\n",
       " 'technology']"
      ]
     },
     "execution_count": 14,
     "metadata": {},
     "output_type": "execute_result"
    }
   ],
   "source": [
    "final[0][:10]"
   ]
  },
  {
   "cell_type": "code",
   "execution_count": 15,
   "metadata": {},
   "outputs": [
    {
     "name": "stdout",
     "output_type": "stream",
     "text": [
      "Number of unique tokens: 2765\n",
      "Number of documents: 943\n",
      "[[(0, 1), (1, 2), (2, 1), (3, 1), (4, 1), (5, 1), (6, 1), (7, 1), (8, 2), (9, 1), (10, 1), (11, 1), (12, 1), (13, 1), (14, 1), (15, 1), (16, 1), (17, 1), (18, 1), (19, 1), (20, 2), (21, 1), (22, 1), (23, 1), (24, 1), (25, 1), (26, 4), (27, 1), (28, 1), (29, 1)]]\n"
     ]
    }
   ],
   "source": [
    "# Create a dictionary representation of the documents.\n",
    "dictionary = Dictionary(final)\n",
    "\n",
    "# Step 12: Remove rare & common tokens \n",
    "# We filter our dict to remove key : \n",
    "#value pairs with less than 2 occurrence or more than 10% of total number of sample\n",
    "dictionary.filter_extremes(no_below=2, no_above=0.1)\n",
    "\n",
    "#Create dictionary and corpus required for Topic Modeling\n",
    "corpus = [dictionary.doc2bow(doc) for doc in final]\n",
    "print('Number of unique tokens: %d' % len(dictionary))\n",
    "print('Number of documents: %d' % len(corpus))\n",
    "print(corpus[:1])"
   ]
  },
  {
   "cell_type": "code",
   "execution_count": 16,
   "metadata": {},
   "outputs": [],
   "source": [
    "temp = dictionary[0]\n",
    "id2word = dictionary.id2token"
   ]
  },
  {
   "cell_type": "markdown",
   "metadata": {},
   "source": [
    "## 2. Base model of the LDA analysis"
   ]
  },
  {
   "cell_type": "code",
   "execution_count": 17,
   "metadata": {},
   "outputs": [],
   "source": [
    "# Build LDA model\n",
    "lda_model = gensim.models.LdaMulticore(corpus=corpus,\n",
    "                                       id2word=id2word,\n",
    "                                       num_topics=10, \n",
    "                                       random_state=42,\n",
    "                                       chunksize=100,\n",
    "                                       passes=20,\n",
    "                                       iterations=100,\n",
    "                                       per_word_topics=True,\n",
    "                                       eval_every=1,\n",
    "                                       decay=0.5, \n",
    "                                       offset=64)"
   ]
  },
  {
   "cell_type": "code",
   "execution_count": 18,
   "metadata": {},
   "outputs": [
    {
     "name": "stdout",
     "output_type": "stream",
     "text": [
      "[(0,\n",
      "  '0.008*\"autopilot\" + 0.007*\"cost\" + 0.007*\"gas\" + 0.006*\"feature\" + '\n",
      "  '0.006*\"handle\" + 0.006*\"much\" + 0.006*\"comfortable\" + 0.006*\"acceleration\" '\n",
      "  '+ 0.006*\"seat\" + 0.006*\"interior\"'),\n",
      " (1,\n",
      "  '0.013*\"appt\" + 0.013*\"sister\" + 0.011*\"part\" + 0.010*\"guy\" + 0.009*\"email\" '\n",
      "  '+ 0.008*\"item\" + 0.008*\"uber\" + 0.007*\"tell_mobile_service\" + 0.007*\"right\" '\n",
      "  '+ 0.006*\"arrive\"'),\n",
      " (2,\n",
      "  '0.013*\"email\" + 0.012*\"delivery\" + 0.008*\"ask\" + 0.007*\"customer\" + '\n",
      "  '0.006*\"pay\" + 0.006*\"people\" + 0.006*\"receive\" + 0.006*\"problem\" + '\n",
      "  '0.005*\"phone\" + 0.005*\"sale\"'),\n",
      " (3,\n",
      "  '0.014*\"tire\" + 0.011*\"delivery\" + 0.008*\"june\" + 0.007*\"appointment\" + '\n",
      "  '0.007*\"scratch\" + 0.007*\"service_center\" + 0.007*\"price\" + 0.006*\"march\" + '\n",
      "  '0.005*\"sale\" + 0.005*\"side\"'),\n",
      " (4,\n",
      "  '0.024*\"tesla_solar_panel\" + 0.011*\"range\" + 0.010*\"add\" + 0.010*\"home\" + '\n",
      "  '0.009*\"awesome\" + 0.008*\"already\" + 0.008*\"roof\" + 0.008*\"crap\" + '\n",
      "  '0.008*\"update\" + 0.007*\"standard\"'),\n",
      " (5,\n",
      "  '0.015*\"window\" + 0.009*\"customer\" + 0.008*\"end\" + 0.007*\"leave\" + '\n",
      "  '0.006*\"malfunction\" + 0.006*\"cost\" + 0.006*\"rear\" + 0.006*\"bad\" + '\n",
      "  '0.006*\"bag\" + 0.006*\"police\"'),\n",
      " (6,\n",
      "  '0.024*\"tyre\" + 0.013*\"dear_tesla\" + 0.008*\"fabulous\" + 0.008*\"person\" + '\n",
      "  '0.008*\"tech\" + 0.007*\"email\" + 0.007*\"test_drive\" + 0.007*\"design\" + '\n",
      "  '0.006*\"store\" + 0.006*\"avoid\"'),\n",
      " (7,\n",
      "  '0.011*\"wife\" + 0.008*\"bad\" + 0.007*\"battery\" + 0.007*\"find\" + '\n",
      "  '0.007*\"someone\" + 0.006*\"seem\" + 0.006*\"people\" + 0.006*\"customer\" + '\n",
      "  '0.006*\"tesla_employee\" + 0.006*\"service_centre\"'),\n",
      " (8,\n",
      "  '0.021*\"wheel\" + 0.017*\"tire\" + 0.015*\"crack\" + 0.013*\"technician\" + '\n",
      "  '0.013*\"last\" + 0.010*\"state\" + 0.010*\"front\" + 0.009*\"replace\" + '\n",
      "  '0.009*\"absolutely\" + 0.009*\"repair\"'),\n",
      " (9,\n",
      "  '0.011*\"problem\" + 0.011*\"phone\" + 0.009*\"customer\" + 0.007*\"sale\" + '\n",
      "  '0.007*\"service_centre\" + 0.007*\"staff\" + 0.007*\"still\" + 0.007*\"think\" + '\n",
      "  '0.006*\"feel\" + 0.006*\"change\"')]\n"
     ]
    }
   ],
   "source": [
    "# Print the Keyword in the 10 topics\n",
    "pprint(lda_model.print_topics())\n",
    "doc_lda = lda_model[corpus]"
   ]
  },
  {
   "cell_type": "code",
   "execution_count": 19,
   "metadata": {},
   "outputs": [
    {
     "name": "stdout",
     "output_type": "stream",
     "text": [
      "\n",
      "Coherence Score:  0.3598303372904272\n"
     ]
    }
   ],
   "source": [
    "# Compute Coherence Score using c_v\n",
    "coherence_model_lda = CoherenceModel(model=lda_model, texts=final, dictionary=dictionary, coherence='c_v')\n",
    "coherence_lda = coherence_model_lda.get_coherence()\n",
    "print('\\nCoherence Score: ', coherence_lda)"
   ]
  },
  {
   "cell_type": "markdown",
   "metadata": {},
   "source": [
    "## 3. Hyper-parameter tuning"
   ]
  },
  {
   "cell_type": "code",
   "execution_count": 20,
   "metadata": {},
   "outputs": [],
   "source": [
    "# supporting function\n",
    "def compute_coherence_values(corpus, dictionary, k, a, b):\n",
    "    \n",
    "    lda_model = gensim.models.LdaMulticore(corpus=corpus,\n",
    "                                           id2word=id2word,\n",
    "                                           num_topics=10, \n",
    "                                           random_state=42,\n",
    "                                           chunksize=100,\n",
    "                                           passes=20,\n",
    "                                           iterations=100,\n",
    "                                           eval_every=1,\n",
    "                                           decay=0.5, \n",
    "                                           offset=64,\n",
    "                                           per_word_topics=True,\n",
    "                                           alpha=a,\n",
    "                                           eta=b)\n",
    "    \n",
    "    coherence_model_lda = CoherenceModel(model=lda_model, texts=final, dictionary=dictionary, coherence='c_v')\n",
    "    \n",
    "    return coherence_model_lda.get_coherence()"
   ]
  },
  {
   "cell_type": "code",
   "execution_count": null,
   "metadata": {},
   "outputs": [],
   "source": [
    "grid = {}\n",
    "grid['Validation_Set'] = {}\n",
    "\n",
    "# Topics range\n",
    "min_topics = 10\n",
    "max_topics = 101\n",
    "step_size = 10\n",
    "topics_range = range(min_topics, max_topics, step_size)\n",
    "\n",
    "# Alpha parameter\n",
    "alpha = list(np.arange(0.01, 1, 0.3))\n",
    "alpha.append('symmetric')\n",
    "alpha.append('asymmetric')\n",
    "\n",
    "# Beta parameter\n",
    "beta = list(np.arange(0.01, 1, 0.3))\n",
    "beta.append('symmetric')\n",
    "\n",
    "# Validation sets\n",
    "num_of_docs = len(corpus)\n",
    "corpus_sets = [# gensim.utils.ClippedCorpus(corpus, num_of_docs*0.25), \n",
    "               # gensim.utils.ClippedCorpus(corpus, num_of_docs*0.5), \n",
    "               gensim.utils.ClippedCorpus(corpus, int(num_of_docs*0.75)), \n",
    "               corpus]\n",
    "corpus_title = ['75% Corpus', '100% Corpus']\n",
    "model_results = {'Validation_Set': [],\n",
    "                 'Topics': [],\n",
    "                 'Alpha': [],\n",
    "                 'Beta': [],\n",
    "                 'Coherence': []\n",
    "                }"
   ]
  },
  {
   "cell_type": "code",
   "execution_count": null,
   "metadata": {},
   "outputs": [],
   "source": [
    "# Can take a long time to run\n",
    "if 1 == 1:\n",
    "    pbar = tqdm.tqdm(total=540)\n",
    "    \n",
    "    # iterate through validation corpuses\n",
    "    for i in range(len(corpus_sets)):\n",
    "        # iterate through number of topics\n",
    "        for k in topics_range:\n",
    "            # iterate through alpha values\n",
    "            for a in alpha:\n",
    "                # iterare through beta values\n",
    "                for b in beta:\n",
    "                    # get the coherence score for the given parameters\n",
    "                    cv = compute_coherence_values(corpus=corpus_sets[i],\n",
    "                                                  dictionary=dictionary, k=k, a=a, b=b)\n",
    "                    \n",
    "                    # Save the model results\n",
    "                    model_results['Validation_Set'].append(corpus_title[i])\n",
    "                    model_results['Topics'].append(k)\n",
    "                    model_results['Alpha'].append(a)\n",
    "                    model_results['Beta'].append(b)\n",
    "                    model_results['Coherence'].append(cv)\n",
    "                    \n",
    "                    pbar.update(1)\n",
    "    pd.DataFrame(model_results).to_csv('lda_tuning_results_final.csv', index=False)\n",
    "    pbar.close()"
   ]
  },
  {
   "cell_type": "code",
   "execution_count": 21,
   "metadata": {},
   "outputs": [
    {
     "data": {
      "text/html": [
       "<div>\n",
       "<style scoped>\n",
       "    .dataframe tbody tr th:only-of-type {\n",
       "        vertical-align: middle;\n",
       "    }\n",
       "\n",
       "    .dataframe tbody tr th {\n",
       "        vertical-align: top;\n",
       "    }\n",
       "\n",
       "    .dataframe thead th {\n",
       "        text-align: right;\n",
       "    }\n",
       "</style>\n",
       "<table border=\"1\" class=\"dataframe\">\n",
       "  <thead>\n",
       "    <tr style=\"text-align: right;\">\n",
       "      <th></th>\n",
       "      <th>Validation_Set</th>\n",
       "      <th>Topics</th>\n",
       "      <th>Alpha</th>\n",
       "      <th>Beta</th>\n",
       "      <th>Coherence</th>\n",
       "    </tr>\n",
       "  </thead>\n",
       "  <tbody>\n",
       "    <tr>\n",
       "      <th>358</th>\n",
       "      <td>100% Corpus</td>\n",
       "      <td>20</td>\n",
       "      <td>asymmetric</td>\n",
       "      <td>0.9099999999999999</td>\n",
       "      <td>0.429508</td>\n",
       "    </tr>\n",
       "    <tr>\n",
       "      <th>498</th>\n",
       "      <td>100% Corpus</td>\n",
       "      <td>70</td>\n",
       "      <td>0.9099999999999999</td>\n",
       "      <td>0.9099999999999999</td>\n",
       "      <td>0.424328</td>\n",
       "    </tr>\n",
       "    <tr>\n",
       "      <th>438</th>\n",
       "      <td>100% Corpus</td>\n",
       "      <td>50</td>\n",
       "      <td>0.9099999999999999</td>\n",
       "      <td>0.9099999999999999</td>\n",
       "      <td>0.422660</td>\n",
       "    </tr>\n",
       "  </tbody>\n",
       "</table>\n",
       "</div>"
      ],
      "text/plain": [
       "    Validation_Set  Topics               Alpha                Beta  Coherence\n",
       "358    100% Corpus      20          asymmetric  0.9099999999999999   0.429508\n",
       "498    100% Corpus      70  0.9099999999999999  0.9099999999999999   0.424328\n",
       "438    100% Corpus      50  0.9099999999999999  0.9099999999999999   0.422660"
      ]
     },
     "execution_count": 21,
     "metadata": {},
     "output_type": "execute_result"
    }
   ],
   "source": [
    "lda_tuning = pd.read_csv('lda_tuning_results_final.csv')\n",
    "lda_tuning_100 = lda_tuning.groupby(lda_tuning.Validation_Set)\n",
    "lda_tuning_100 = lda_tuning_100.get_group('100% Corpus')\n",
    "lda_tuning_100 = lda_tuning_100.sort_values(by='Coherence', ascending=False)\n",
    "lda_tuning_100.head(3)"
   ]
  },
  {
   "cell_type": "code",
   "execution_count": 22,
   "metadata": {},
   "outputs": [],
   "source": [
    "results = lda_tuning_100.groupby(lda_tuning_100.Alpha)\n",
    "results = results.get_group('asymmetric')\n",
    "results = results.groupby(results.Beta)\n",
    "results = results.get_group('0.9099999999999999')"
   ]
  },
  {
   "cell_type": "code",
   "execution_count": 23,
   "metadata": {},
   "outputs": [
    {
     "data": {
      "text/html": [
       "<div>\n",
       "<style scoped>\n",
       "    .dataframe tbody tr th:only-of-type {\n",
       "        vertical-align: middle;\n",
       "    }\n",
       "\n",
       "    .dataframe tbody tr th {\n",
       "        vertical-align: top;\n",
       "    }\n",
       "\n",
       "    .dataframe thead th {\n",
       "        text-align: right;\n",
       "    }\n",
       "</style>\n",
       "<table border=\"1\" class=\"dataframe\">\n",
       "  <thead>\n",
       "    <tr style=\"text-align: right;\">\n",
       "      <th></th>\n",
       "      <th>Validation_Set</th>\n",
       "      <th>Topics</th>\n",
       "      <th>Alpha</th>\n",
       "      <th>Beta</th>\n",
       "      <th>Coherence</th>\n",
       "    </tr>\n",
       "  </thead>\n",
       "  <tbody>\n",
       "    <tr>\n",
       "      <th>358</th>\n",
       "      <td>100% Corpus</td>\n",
       "      <td>20</td>\n",
       "      <td>asymmetric</td>\n",
       "      <td>0.9099999999999999</td>\n",
       "      <td>0.429508</td>\n",
       "    </tr>\n",
       "    <tr>\n",
       "      <th>478</th>\n",
       "      <td>100% Corpus</td>\n",
       "      <td>60</td>\n",
       "      <td>asymmetric</td>\n",
       "      <td>0.9099999999999999</td>\n",
       "      <td>0.419709</td>\n",
       "    </tr>\n",
       "    <tr>\n",
       "      <th>418</th>\n",
       "      <td>100% Corpus</td>\n",
       "      <td>40</td>\n",
       "      <td>asymmetric</td>\n",
       "      <td>0.9099999999999999</td>\n",
       "      <td>0.415211</td>\n",
       "    </tr>\n",
       "    <tr>\n",
       "      <th>328</th>\n",
       "      <td>100% Corpus</td>\n",
       "      <td>10</td>\n",
       "      <td>asymmetric</td>\n",
       "      <td>0.9099999999999999</td>\n",
       "      <td>0.389568</td>\n",
       "    </tr>\n",
       "    <tr>\n",
       "      <th>448</th>\n",
       "      <td>100% Corpus</td>\n",
       "      <td>50</td>\n",
       "      <td>asymmetric</td>\n",
       "      <td>0.9099999999999999</td>\n",
       "      <td>0.389249</td>\n",
       "    </tr>\n",
       "    <tr>\n",
       "      <th>388</th>\n",
       "      <td>100% Corpus</td>\n",
       "      <td>30</td>\n",
       "      <td>asymmetric</td>\n",
       "      <td>0.9099999999999999</td>\n",
       "      <td>0.379484</td>\n",
       "    </tr>\n",
       "    <tr>\n",
       "      <th>568</th>\n",
       "      <td>100% Corpus</td>\n",
       "      <td>90</td>\n",
       "      <td>asymmetric</td>\n",
       "      <td>0.9099999999999999</td>\n",
       "      <td>0.375514</td>\n",
       "    </tr>\n",
       "    <tr>\n",
       "      <th>538</th>\n",
       "      <td>100% Corpus</td>\n",
       "      <td>80</td>\n",
       "      <td>asymmetric</td>\n",
       "      <td>0.9099999999999999</td>\n",
       "      <td>0.371281</td>\n",
       "    </tr>\n",
       "    <tr>\n",
       "      <th>598</th>\n",
       "      <td>100% Corpus</td>\n",
       "      <td>100</td>\n",
       "      <td>asymmetric</td>\n",
       "      <td>0.9099999999999999</td>\n",
       "      <td>0.369199</td>\n",
       "    </tr>\n",
       "    <tr>\n",
       "      <th>508</th>\n",
       "      <td>100% Corpus</td>\n",
       "      <td>70</td>\n",
       "      <td>asymmetric</td>\n",
       "      <td>0.9099999999999999</td>\n",
       "      <td>0.368219</td>\n",
       "    </tr>\n",
       "  </tbody>\n",
       "</table>\n",
       "</div>"
      ],
      "text/plain": [
       "    Validation_Set  Topics       Alpha                Beta  Coherence\n",
       "358    100% Corpus      20  asymmetric  0.9099999999999999   0.429508\n",
       "478    100% Corpus      60  asymmetric  0.9099999999999999   0.419709\n",
       "418    100% Corpus      40  asymmetric  0.9099999999999999   0.415211\n",
       "328    100% Corpus      10  asymmetric  0.9099999999999999   0.389568\n",
       "448    100% Corpus      50  asymmetric  0.9099999999999999   0.389249\n",
       "388    100% Corpus      30  asymmetric  0.9099999999999999   0.379484\n",
       "568    100% Corpus      90  asymmetric  0.9099999999999999   0.375514\n",
       "538    100% Corpus      80  asymmetric  0.9099999999999999   0.371281\n",
       "598    100% Corpus     100  asymmetric  0.9099999999999999   0.369199\n",
       "508    100% Corpus      70  asymmetric  0.9099999999999999   0.368219"
      ]
     },
     "execution_count": 23,
     "metadata": {},
     "output_type": "execute_result"
    }
   ],
   "source": [
    "results"
   ]
  },
  {
   "cell_type": "code",
   "execution_count": 24,
   "metadata": {},
   "outputs": [
    {
     "data": {
      "image/png": "[encoded data removed]",
      "text/plain": [
       "<Figure size 360x360 with 1 Axes>"
      ]
     },
     "metadata": {
      "needs_background": "light"
     },
     "output_type": "display_data"
    }
   ],
   "source": [
    "line = sns.relplot('Topics','Coherence', kind='line', marker='o', data=results)"
   ]
  },
  {
   "cell_type": "markdown",
   "metadata": {},
   "source": [
    "## 4. Hyper-parameter tuning with narrowed range of the number of topics"
   ]
  },
  {
   "cell_type": "code",
   "execution_count": 25,
   "metadata": {},
   "outputs": [],
   "source": [
    "grid = {}\n",
    "grid['Validation_Set'] = {}\n",
    "\n",
    "# Topics range\n",
    "min_topics = 10\n",
    "max_topics = 51\n",
    "step_size = 10\n",
    "topics_range = range(min_topics, max_topics, step_size)\n",
    "\n",
    "# Alpha parameter\n",
    "alpha = list(np.arange(0.01, 1, 0.3))\n",
    "alpha.append('symmetric')\n",
    "alpha.append('asymmetric')\n",
    "\n",
    "# Beta parameter\n",
    "beta = list(np.arange(0.01, 1, 0.3))\n",
    "beta.append('symmetric')\n",
    "\n",
    "# Validation sets\n",
    "num_of_docs = len(corpus)\n",
    "corpus_sets = [# gensim.utils.ClippedCorpus(corpus, num_of_docs*0.25), \n",
    "               # gensim.utils.ClippedCorpus(corpus, num_of_docs*0.5), \n",
    "               gensim.utils.ClippedCorpus(corpus, int(num_of_docs*0.75)), \n",
    "               corpus]\n",
    "corpus_title = ['75% Corpus', '100% Corpus']\n",
    "model_results = {'Validation_Set': [],\n",
    "                 'Topics': [],\n",
    "                 'Alpha': [],\n",
    "                 'Beta': [],\n",
    "                 'Coherence': []\n",
    "                }"
   ]
  },
  {
   "cell_type": "code",
   "execution_count": null,
   "metadata": {},
   "outputs": [],
   "source": [
    "# Can take a long time to run\n",
    "if 1 == 1:\n",
    "    pbar = tqdm.tqdm(total=540)\n",
    "    \n",
    "    # iterate through validation corpuses\n",
    "    for i in range(len(corpus_sets)):\n",
    "        # iterate through number of topics\n",
    "        for k in topics_range:\n",
    "            # iterate through alpha values\n",
    "            for a in alpha:\n",
    "                # iterare through beta values\n",
    "                for b in beta:\n",
    "                    # get the coherence score for the given parameters\n",
    "                    cv = compute_coherence_values(corpus=corpus_sets[i],\n",
    "                                                  dictionary=dictionary, k=k, a=a, b=b)\n",
    "                    \n",
    "                    # Save the model results\n",
    "                    model_results['Validation_Set'].append(corpus_title[i])\n",
    "                    model_results['Topics'].append(k)\n",
    "                    model_results['Alpha'].append(a)\n",
    "                    model_results['Beta'].append(b)\n",
    "                    model_results['Coherence'].append(cv)\n",
    "                    \n",
    "                    pbar.update(1)\n",
    "    pd.DataFrame(model_results).to_csv('lda_tuning_results_final2.csv', index=False)\n",
    "    pbar.close()"
   ]
  },
  {
   "cell_type": "code",
   "execution_count": 26,
   "metadata": {},
   "outputs": [
    {
     "data": {
      "text/html": [
       "<div>\n",
       "<style scoped>\n",
       "    .dataframe tbody tr th:only-of-type {\n",
       "        vertical-align: middle;\n",
       "    }\n",
       "\n",
       "    .dataframe tbody tr th {\n",
       "        vertical-align: top;\n",
       "    }\n",
       "\n",
       "    .dataframe thead th {\n",
       "        text-align: right;\n",
       "    }\n",
       "</style>\n",
       "<table border=\"1\" class=\"dataframe\">\n",
       "  <thead>\n",
       "    <tr style=\"text-align: right;\">\n",
       "      <th></th>\n",
       "      <th>Validation_Set</th>\n",
       "      <th>Topics</th>\n",
       "      <th>Alpha</th>\n",
       "      <th>Beta</th>\n",
       "      <th>Coherence</th>\n",
       "    </tr>\n",
       "  </thead>\n",
       "  <tbody>\n",
       "    <tr>\n",
       "      <th>168</th>\n",
       "      <td>100% Corpus</td>\n",
       "      <td>10</td>\n",
       "      <td>0.9099999999999999</td>\n",
       "      <td>0.9099999999999999</td>\n",
       "      <td>0.428507</td>\n",
       "    </tr>\n",
       "    <tr>\n",
       "      <th>177</th>\n",
       "      <td>100% Corpus</td>\n",
       "      <td>10</td>\n",
       "      <td>asymmetric</td>\n",
       "      <td>0.61</td>\n",
       "      <td>0.413098</td>\n",
       "    </tr>\n",
       "    <tr>\n",
       "      <th>258</th>\n",
       "      <td>100% Corpus</td>\n",
       "      <td>40</td>\n",
       "      <td>0.9099999999999999</td>\n",
       "      <td>0.9099999999999999</td>\n",
       "      <td>0.412249</td>\n",
       "    </tr>\n",
       "  </tbody>\n",
       "</table>\n",
       "</div>"
      ],
      "text/plain": [
       "    Validation_Set  Topics               Alpha                Beta  Coherence\n",
       "168    100% Corpus      10  0.9099999999999999  0.9099999999999999   0.428507\n",
       "177    100% Corpus      10          asymmetric                0.61   0.413098\n",
       "258    100% Corpus      40  0.9099999999999999  0.9099999999999999   0.412249"
      ]
     },
     "execution_count": 26,
     "metadata": {},
     "output_type": "execute_result"
    }
   ],
   "source": [
    "lda_tuning2 = pd.read_csv('lda_tuning_results_final2.csv')\n",
    "lda_tuning2_100 = lda_tuning2.groupby(lda_tuning2.Validation_Set)\n",
    "lda_tuning2_100 = lda_tuning2_100.get_group('100% Corpus')\n",
    "lda_tuning2_100 = lda_tuning2_100.sort_values(by='Coherence', ascending=False)\n",
    "lda_tuning2_100.head(3)"
   ]
  },
  {
   "cell_type": "code",
   "execution_count": 27,
   "metadata": {},
   "outputs": [],
   "source": [
    "results2 = lda_tuning2_100.groupby(lda_tuning2_100.Alpha)\n",
    "results2 = results2.get_group('0.9099999999999999')\n",
    "results2 = results2.groupby(results2.Beta)\n",
    "results2 = results2.get_group('0.9099999999999999')"
   ]
  },
  {
   "cell_type": "code",
   "execution_count": 28,
   "metadata": {},
   "outputs": [
    {
     "data": {
      "text/html": [
       "<div>\n",
       "<style scoped>\n",
       "    .dataframe tbody tr th:only-of-type {\n",
       "        vertical-align: middle;\n",
       "    }\n",
       "\n",
       "    .dataframe tbody tr th {\n",
       "        vertical-align: top;\n",
       "    }\n",
       "\n",
       "    .dataframe thead th {\n",
       "        text-align: right;\n",
       "    }\n",
       "</style>\n",
       "<table border=\"1\" class=\"dataframe\">\n",
       "  <thead>\n",
       "    <tr style=\"text-align: right;\">\n",
       "      <th></th>\n",
       "      <th>Validation_Set</th>\n",
       "      <th>Topics</th>\n",
       "      <th>Alpha</th>\n",
       "      <th>Beta</th>\n",
       "      <th>Coherence</th>\n",
       "    </tr>\n",
       "  </thead>\n",
       "  <tbody>\n",
       "    <tr>\n",
       "      <th>168</th>\n",
       "      <td>100% Corpus</td>\n",
       "      <td>10</td>\n",
       "      <td>0.9099999999999999</td>\n",
       "      <td>0.9099999999999999</td>\n",
       "      <td>0.428507</td>\n",
       "    </tr>\n",
       "    <tr>\n",
       "      <th>258</th>\n",
       "      <td>100% Corpus</td>\n",
       "      <td>40</td>\n",
       "      <td>0.9099999999999999</td>\n",
       "      <td>0.9099999999999999</td>\n",
       "      <td>0.412249</td>\n",
       "    </tr>\n",
       "    <tr>\n",
       "      <th>288</th>\n",
       "      <td>100% Corpus</td>\n",
       "      <td>50</td>\n",
       "      <td>0.9099999999999999</td>\n",
       "      <td>0.9099999999999999</td>\n",
       "      <td>0.406163</td>\n",
       "    </tr>\n",
       "    <tr>\n",
       "      <th>198</th>\n",
       "      <td>100% Corpus</td>\n",
       "      <td>20</td>\n",
       "      <td>0.9099999999999999</td>\n",
       "      <td>0.9099999999999999</td>\n",
       "      <td>0.406116</td>\n",
       "    </tr>\n",
       "    <tr>\n",
       "      <th>228</th>\n",
       "      <td>100% Corpus</td>\n",
       "      <td>30</td>\n",
       "      <td>0.9099999999999999</td>\n",
       "      <td>0.9099999999999999</td>\n",
       "      <td>0.374115</td>\n",
       "    </tr>\n",
       "  </tbody>\n",
       "</table>\n",
       "</div>"
      ],
      "text/plain": [
       "    Validation_Set  Topics               Alpha                Beta  Coherence\n",
       "168    100% Corpus      10  0.9099999999999999  0.9099999999999999   0.428507\n",
       "258    100% Corpus      40  0.9099999999999999  0.9099999999999999   0.412249\n",
       "288    100% Corpus      50  0.9099999999999999  0.9099999999999999   0.406163\n",
       "198    100% Corpus      20  0.9099999999999999  0.9099999999999999   0.406116\n",
       "228    100% Corpus      30  0.9099999999999999  0.9099999999999999   0.374115"
      ]
     },
     "execution_count": 28,
     "metadata": {},
     "output_type": "execute_result"
    }
   ],
   "source": [
    "results2"
   ]
  },
  {
   "cell_type": "code",
   "execution_count": 29,
   "metadata": {},
   "outputs": [
    {
     "data": {
      "image/png": "[encoded data removed]",
      "text/plain": [
       "<Figure size 360x360 with 1 Axes>"
      ]
     },
     "metadata": {
      "needs_background": "light"
     },
     "output_type": "display_data"
    }
   ],
   "source": [
    "line2 = sns.relplot('Topics','Coherence', kind='line', marker='o',data=results2)"
   ]
  },
  {
   "cell_type": "markdown",
   "metadata": {},
   "source": [
    "## 5. Final Model"
   ]
  },
  {
   "cell_type": "code",
   "execution_count": 30,
   "metadata": {},
   "outputs": [],
   "source": [
    "lda_model = gensim.models.LdaMulticore(corpus=corpus,\n",
    "                                           id2word=id2word,\n",
    "                                           num_topics=10, \n",
    "                                           random_state=42,\n",
    "                                           chunksize=100,\n",
    "                                           passes=20,\n",
    "                                           iterations=100,\n",
    "                                           eval_every=1,\n",
    "                                           decay=0.5, \n",
    "                                           offset=64,\n",
    "                                           per_word_topics=True,\n",
    "                                           alpha=0.9099999999999999,\n",
    "                                           eta=0.9099999999999999)"
   ]
  },
  {
   "cell_type": "code",
   "execution_count": 31,
   "metadata": {},
   "outputs": [
    {
     "data": {
      "text/plain": [
       "[(0,\n",
       "  '0.002*\"ford\" + 0.002*\"smog_producer\" + 0.001*\"nothing\" + 0.001*\"gas\" + 0.001*\"ever\" + 0.001*\"honda\" + 0.001*\"friendly\" + 0.001*\"comfortable\" + 0.001*\"driving_experience\" + 0.001*\"manual\"'),\n",
       " (1,\n",
       "  '0.006*\"appt\" + 0.006*\"part\" + 0.005*\"uber\" + 0.005*\"guy\" + 0.004*\"item\" + 0.004*\"arrive\" + 0.004*\"book\" + 0.003*\"tell_mobile_service\" + 0.003*\"pay\" + 0.003*\"right\"'),\n",
       " (2,\n",
       "  '0.010*\"delivery\" + 0.009*\"email\" + 0.008*\"customer\" + 0.007*\"ask\" + 0.006*\"problem\" + 0.006*\"sale\" + 0.006*\"phone\" + 0.005*\"people\" + 0.005*\"bad\" + 0.005*\"someone\"'),\n",
       " (3,\n",
       "  '0.010*\"june\" + 0.008*\"price\" + 0.006*\"march\" + 0.006*\"text\" + 0.005*\"customer\" + 0.005*\"promise\" + 0.005*\"trade\" + 0.004*\"delivery\" + 0.004*\"offer\" + 0.004*\"reserve\"'),\n",
       " (4,\n",
       "  '0.003*\"oscar\" + 0.003*\"auto\" + 0.002*\"auburn_way\" + 0.002*\"high_tech_car\" + 0.002*\"thank\" + 0.001*\"patient\" + 0.001*\"help\" + 0.001*\"card\" + 0.001*\"professional\" + 0.001*\"steep\"'),\n",
       " (5,\n",
       "  '0.005*\"bag\" + 0.004*\"police\" + 0.003*\"laptop\" + 0.003*\"return\" + 0.003*\"leave\" + 0.003*\"staff\" + 0.003*\"ask\" + 0.002*\"unhelpful\" + 0.002*\"safe\" + 0.002*\"thing\"'),\n",
       " (6,\n",
       "  '0.014*\"tyre\" + 0.005*\"fabulous\" + 0.002*\"hour\" + 0.002*\"change\" + 0.002*\"minute\" + 0.002*\"supply\" + 0.002*\"exterior_look\" + 0.002*\"entire\" + 0.002*\"else\" + 0.001*\"let\"'),\n",
       " (7,\n",
       "  '0.006*\"world\" + 0.005*\"electric_car\" + 0.005*\"elon_musk\" + 0.004*\"much\" + 0.004*\"fuel\" + 0.004*\"minor\" + 0.004*\"tech\" + 0.003*\"excellent\" + 0.003*\"design\" + 0.003*\"interior\"'),\n",
       " (8,\n",
       "  '0.009*\"tire\" + 0.006*\"autopilot\" + 0.006*\"battery\" + 0.005*\"cost\" + 0.005*\"range\" + 0.005*\"seat\" + 0.005*\"wheel\" + 0.005*\"feel\" + 0.004*\"free\" + 0.004*\"feature\"'),\n",
       " (9,\n",
       "  '0.008*\"change\" + 0.007*\"technology\" + 0.005*\"door\" + 0.005*\"owner\" + 0.005*\"replace\" + 0.004*\"door_handle\" + 0.004*\"sensor\" + 0.004*\"open\" + 0.003*\"break\" + 0.003*\"fantastic\"')]"
      ]
     },
     "execution_count": 31,
     "metadata": {},
     "output_type": "execute_result"
    }
   ],
   "source": [
    "lda_model.print_topics()"
   ]
  },
  {
   "cell_type": "markdown",
   "metadata": {},
   "source": [
    "## 6. Visualisation"
   ]
  },
  {
   "cell_type": "code",
   "execution_count": 32,
   "metadata": {},
   "outputs": [],
   "source": [
    "pyLDAvis.enable_notebook()\n",
    "LDAvis= pyLDAvis.gensim.prepare(lda_model, corpus, dictionary)"
   ]
  },
  {
   "cell_type": "code",
   "execution_count": null,
   "metadata": {},
   "outputs": [],
   "source": [
    "LDAvis"
   ]
  },
  {
   "attachments": {
    "image.png": {
     "image/png": "[encoded data removed]"
    }
   },
   "cell_type": "markdown",
   "metadata": {},
   "source": [
    "![image.png](attachment:image.png)"
   ]
  },
  {
   "cell_type": "code",
   "execution_count": 34,
   "metadata": {},
   "outputs": [],
   "source": [
    "topic = [' Delivery request','General features','Technology','Eletric car',\n",
    "         'Delivery process','Mobile service','Security',\n",
    "        'Exterior look','High tech car','Comparing']\n",
    "Percent_of_tokens = [36.9, 29.5, 7.1, 6, 4.2, 4, 3.6, 2.9, 2.9, 2.8]"
   ]
  },
  {
   "cell_type": "code",
   "execution_count": 35,
   "metadata": {},
   "outputs": [
    {
     "data": {
      "text/html": [
       "<div>\n",
       "<style scoped>\n",
       "    .dataframe tbody tr th:only-of-type {\n",
       "        vertical-align: middle;\n",
       "    }\n",
       "\n",
       "    .dataframe tbody tr th {\n",
       "        vertical-align: top;\n",
       "    }\n",
       "\n",
       "    .dataframe thead th {\n",
       "        text-align: right;\n",
       "    }\n",
       "</style>\n",
       "<table border=\"1\" class=\"dataframe\">\n",
       "  <thead>\n",
       "    <tr style=\"text-align: right;\">\n",
       "      <th></th>\n",
       "      <th>Topic</th>\n",
       "      <th>Percent of tokens(%)</th>\n",
       "    </tr>\n",
       "  </thead>\n",
       "  <tbody>\n",
       "    <tr>\n",
       "      <th>0</th>\n",
       "      <td>Delivery request</td>\n",
       "      <td>36.9</td>\n",
       "    </tr>\n",
       "    <tr>\n",
       "      <th>1</th>\n",
       "      <td>General features</td>\n",
       "      <td>29.5</td>\n",
       "    </tr>\n",
       "    <tr>\n",
       "      <th>2</th>\n",
       "      <td>Technology</td>\n",
       "      <td>7.1</td>\n",
       "    </tr>\n",
       "    <tr>\n",
       "      <th>3</th>\n",
       "      <td>Eletric car</td>\n",
       "      <td>6.0</td>\n",
       "    </tr>\n",
       "    <tr>\n",
       "      <th>4</th>\n",
       "      <td>Delivery process</td>\n",
       "      <td>4.2</td>\n",
       "    </tr>\n",
       "    <tr>\n",
       "      <th>5</th>\n",
       "      <td>Mobile service</td>\n",
       "      <td>4.0</td>\n",
       "    </tr>\n",
       "    <tr>\n",
       "      <th>6</th>\n",
       "      <td>Security</td>\n",
       "      <td>3.6</td>\n",
       "    </tr>\n",
       "    <tr>\n",
       "      <th>7</th>\n",
       "      <td>Exterior look</td>\n",
       "      <td>2.9</td>\n",
       "    </tr>\n",
       "    <tr>\n",
       "      <th>8</th>\n",
       "      <td>High tech car</td>\n",
       "      <td>2.9</td>\n",
       "    </tr>\n",
       "    <tr>\n",
       "      <th>9</th>\n",
       "      <td>Comparing</td>\n",
       "      <td>2.8</td>\n",
       "    </tr>\n",
       "  </tbody>\n",
       "</table>\n",
       "</div>"
      ],
      "text/plain": [
       "               Topic  Percent of tokens(%)\n",
       "0   Delivery request                  36.9\n",
       "1   General features                  29.5\n",
       "2         Technology                   7.1\n",
       "3        Eletric car                   6.0\n",
       "4   Delivery process                   4.2\n",
       "5     Mobile service                   4.0\n",
       "6           Security                   3.6\n",
       "7      Exterior look                   2.9\n",
       "8      High tech car                   2.9\n",
       "9          Comparing                   2.8"
      ]
     },
     "execution_count": 35,
     "metadata": {},
     "output_type": "execute_result"
    }
   ],
   "source": [
    "Topic_percent = pd.DataFrame(list(zip(topic, Percent_of_tokens)), \n",
    "               columns =['Topic', 'Percent of tokens(%)']) \n",
    "Topic_percent"
   ]
  },
  {
   "cell_type": "code",
   "execution_count": 36,
   "metadata": {},
   "outputs": [
    {
     "data": {
      "text/plain": [
       "(array([0, 1, 2, 3, 4, 5, 6, 7, 8, 9]),\n",
       " <a list of 10 Text major ticklabel objects>)"
      ]
     },
     "execution_count": 36,
     "metadata": {},
     "output_type": "execute_result"
    },
    {
     "data": {
      "image/png": "[encoded data removed]",
      "text/plain": [
       "<Figure size 432x288 with 1 Axes>"
      ]
     },
     "metadata": {
      "needs_background": "light"
     },
     "output_type": "display_data"
    }
   ],
   "source": [
    "topic_percent = sns.barplot('Topic','Percent of tokens(%)',\n",
    "                            palette='Blues_d', data=Topic_percent)\n",
    "plt.xticks(rotation=90)"
   ]
  },
  {
   "cell_type": "code",
   "execution_count": null,
   "metadata": {},
   "outputs": [],
   "source": []
  }
 ],
 "metadata": {
  "kernelspec": {
   "display_name": "Python 3",
   "language": "python",
   "name": "python3"
  },
  "language_info": {
   "codemirror_mode": {
    "name": "ipython",
    "version": 3
   },
   "file_extension": ".py",
   "mimetype": "text/x-python",
   "name": "python",
   "nbconvert_exporter": "python",
   "pygments_lexer": "ipython3",
   "version": "3.7.6"
  }
 },
 "nbformat": 4,
 "nbformat_minor": 4
}
