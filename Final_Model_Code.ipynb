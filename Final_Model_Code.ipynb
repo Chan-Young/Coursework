{
 "cells": [
  {
   "cell_type": "markdown",
   "metadata": {},
   "source": [
    "## Package Preparation"
   ]
  },
  {
   "cell_type": "code",
   "execution_count": 38,
   "metadata": {},
   "outputs": [],
   "source": [
    "'''Installed'''\n",
    "import numpy as np\n",
    "import pandas as pd\n",
    "import matplotlib\n",
    "import matplotlib.pyplot as plt\n",
    "%matplotlib inline\n",
    "import seaborn as sns"
   ]
  },
  {
   "cell_type": "code",
   "execution_count": 39,
   "metadata": {},
   "outputs": [],
   "source": [
    "'''Additonal package requirements'''\n",
    "from sklearn.model_selection import train_test_split\n",
    "from sklearn.preprocessing import LabelEncoder\n",
    "from sklearn.model_selection import KFold\n",
    "from sklearn.model_selection import cross_val_score\n",
    "from sklearn.model_selection import cross_val_predict\n",
    "from sklearn.metrics import confusion_matrix\n",
    "from sklearn import dummy\n",
    "from sklearn.tree import DecisionTreeClassifier\n",
    "from sklearn import metrics\n",
    "from sklearn.metrics import classification_report"
   ]
  },
  {
   "cell_type": "markdown",
   "metadata": {},
   "source": [
    "### E1. Read file"
   ]
  },
  {
   "cell_type": "code",
   "execution_count": 40,
   "metadata": {},
   "outputs": [],
   "source": [
    "df = pd.read_csv('lixcl68.csv')"
   ]
  },
  {
   "cell_type": "markdown",
   "metadata": {},
   "source": [
    "### E2. Encoding categorical data type"
   ]
  },
  {
   "cell_type": "code",
   "execution_count": 41,
   "metadata": {},
   "outputs": [],
   "source": [
    "df = df.drop(['age','job','marital','education', 'balance','contact','day','campaign','pdays','previous'],1)"
   ]
  },
  {
   "cell_type": "code",
   "execution_count": 42,
   "metadata": {},
   "outputs": [
    {
     "data": {
      "text/html": [
       "<div>\n",
       "<style scoped>\n",
       "    .dataframe tbody tr th:only-of-type {\n",
       "        vertical-align: middle;\n",
       "    }\n",
       "\n",
       "    .dataframe tbody tr th {\n",
       "        vertical-align: top;\n",
       "    }\n",
       "\n",
       "    .dataframe thead th {\n",
       "        text-align: right;\n",
       "    }\n",
       "</style>\n",
       "<table border=\"1\" class=\"dataframe\">\n",
       "  <thead>\n",
       "    <tr style=\"text-align: right;\">\n",
       "      <th></th>\n",
       "      <th>default</th>\n",
       "      <th>housing</th>\n",
       "      <th>loan</th>\n",
       "      <th>duration</th>\n",
       "      <th>poutcome</th>\n",
       "      <th>y</th>\n",
       "    </tr>\n",
       "  </thead>\n",
       "  <tbody>\n",
       "    <tr>\n",
       "      <th>0</th>\n",
       "      <td>no</td>\n",
       "      <td>no</td>\n",
       "      <td>yes</td>\n",
       "      <td>249</td>\n",
       "      <td>unknown</td>\n",
       "      <td>no</td>\n",
       "    </tr>\n",
       "    <tr>\n",
       "      <th>1</th>\n",
       "      <td>no</td>\n",
       "      <td>yes</td>\n",
       "      <td>no</td>\n",
       "      <td>58</td>\n",
       "      <td>unknown</td>\n",
       "      <td>no</td>\n",
       "    </tr>\n",
       "    <tr>\n",
       "      <th>2</th>\n",
       "      <td>no</td>\n",
       "      <td>yes</td>\n",
       "      <td>no</td>\n",
       "      <td>504</td>\n",
       "      <td>unknown</td>\n",
       "      <td>yes</td>\n",
       "    </tr>\n",
       "    <tr>\n",
       "      <th>3</th>\n",
       "      <td>no</td>\n",
       "      <td>yes</td>\n",
       "      <td>no</td>\n",
       "      <td>179</td>\n",
       "      <td>other</td>\n",
       "      <td>no</td>\n",
       "    </tr>\n",
       "    <tr>\n",
       "      <th>4</th>\n",
       "      <td>no</td>\n",
       "      <td>yes</td>\n",
       "      <td>no</td>\n",
       "      <td>511</td>\n",
       "      <td>failure</td>\n",
       "      <td>yes</td>\n",
       "    </tr>\n",
       "  </tbody>\n",
       "</table>\n",
       "</div>"
      ],
      "text/plain": [
       "  default housing loan  duration poutcome    y\n",
       "0      no      no  yes       249  unknown   no\n",
       "1      no     yes   no        58  unknown   no\n",
       "2      no     yes   no       504  unknown  yes\n",
       "3      no     yes   no       179    other   no\n",
       "4      no     yes   no       511  failure  yes"
      ]
     },
     "execution_count": 42,
     "metadata": {},
     "output_type": "execute_result"
    }
   ],
   "source": [
    "df.head()"
   ]
  },
  {
   "cell_type": "code",
   "execution_count": 43,
   "metadata": {},
   "outputs": [],
   "source": [
    "#creating labelEncoder\n",
    "lb_make = LabelEncoder()\n",
    "\n",
    "# Converting string labels into numbers\n",
    "lb_make = LabelEncoder()\n",
    "df[\"default\"] = lb_make.fit_transform(df[\"default\"])\n",
    "df[\"housing\"] = lb_make.fit_transform(df[\"housing\"])\n",
    "df[\"loan\"] = lb_make.fit_transform(df[\"loan\"])\n",
    "df[\"poutcome\"] = lb_make.fit_transform(df[\"poutcome\"])\n",
    "\n",
    "df['y'] = lb_make.fit_transform(df['y'])"
   ]
  },
  {
   "cell_type": "markdown",
   "metadata": {},
   "source": [
    "### E3. Setting festures and label"
   ]
  },
  {
   "cell_type": "code",
   "execution_count": 44,
   "metadata": {},
   "outputs": [],
   "source": [
    "label = df['y']\n",
    "\n",
    "features = list(zip(df[\"default\"],df[\"housing\"],df[\"loan\"],\n",
    "                    df['duration'], df[\"poutcome\"]))"
   ]
  },
  {
   "cell_type": "markdown",
   "metadata": {},
   "source": [
    "### E4. Setting up Folds and Cross Validaion"
   ]
  },
  {
   "cell_type": "code",
   "execution_count": 45,
   "metadata": {},
   "outputs": [
    {
     "name": "stdout",
     "output_type": "stream",
     "text": [
      "Mean DT Accuracy: 0.6025520795779556\n"
     ]
    }
   ],
   "source": [
    "folds = KFold(n_splits=5, shuffle=True, random_state=0)\n",
    "dc = dummy.DummyClassifier()\n",
    "\n",
    "dt = DecisionTreeClassifier(criterion='gini', max_depth = 4,\n",
    "                                max_features='sqrt', min_samples_leaf=7,\n",
    "                                min_samples_split = 2, random_state=0)\n",
    "\n",
    "dt_scores = cross_val_score(dt, features, label, scoring='precision', cv=folds)\n",
    "\n",
    "print(\"Mean DT Accuracy:\", np.mean(dt_scores))"
   ]
  },
  {
   "cell_type": "markdown",
   "metadata": {},
   "source": [
    "### E5. Model prediction"
   ]
  },
  {
   "cell_type": "code",
   "execution_count": 46,
   "metadata": {},
   "outputs": [
    {
     "name": "stdout",
     "output_type": "stream",
     "text": [
      "[0 0 0 ... 0 0 0]\n",
      "[[4317  108]\n",
      " [ 411  164]]\n"
     ]
    }
   ],
   "source": [
    "dt_pred = cross_val_predict(dt, features, label, cv=folds)\n",
    "print(dt_pred)\n",
    "\n",
    "dt_pred_matrix = confusion_matrix(label, dt_pred)\n",
    "print(dt_pred_matrix)"
   ]
  },
  {
   "cell_type": "markdown",
   "metadata": {},
   "source": [
    "### E6. Evaluation using the confusion matrix"
   ]
  },
  {
   "cell_type": "code",
   "execution_count": 47,
   "metadata": {},
   "outputs": [
    {
     "name": "stdout",
     "output_type": "stream",
     "text": [
      "*** Decision Trees ***\n",
      "            y_predict Yes  y_predict No\n",
      "y_true Yes            164           411\n",
      "y_ture No             108          4317\n",
      "=========================================================\n",
      "              precision    recall  f1-score   support\n",
      "\n",
      "           0       0.91      0.98      0.94      4425\n",
      "           1       0.60      0.29      0.39       575\n",
      "\n",
      "    accuracy                           0.90      5000\n",
      "   macro avg       0.76      0.63      0.67      5000\n",
      "weighted avg       0.88      0.90      0.88      5000\n",
      "\n"
     ]
    }
   ],
   "source": [
    "print('*** Decision Trees ***')\n",
    "dt_confusion = pd.DataFrame(metrics.confusion_matrix(label, dt_pred, labels=[1,0]),\n",
    "                        index=['y_true Yes','y_ture No'],\n",
    "                        columns=['y_predict Yes','y_predict No'])\n",
    "print(dt_confusion)\n",
    "print('=========================================================')\n",
    "print(classification_report(label, dt_pred))"
   ]
  },
  {
   "cell_type": "code",
   "execution_count": 48,
   "metadata": {},
   "outputs": [
    {
     "data": {
      "text/plain": [
       "<matplotlib.axes._subplots.AxesSubplot at 0x1e8f95b8278>"
      ]
     },
     "execution_count": 48,
     "metadata": {},
     "output_type": "execute_result"
    },
    {
     "data": {
      "image/png": "[encoded data removed]",
      "text/plain": [
       "<Figure size 720x432 with 2 Axes>"
      ]
     },
     "metadata": {
      "needs_background": "light"
     },
     "output_type": "display_data"
    }
   ],
   "source": [
    "plt.figure(figsize=(10,6))\n",
    "xticklables = ['y_predict Yes','y_predict No']\n",
    "yticklables = ['y_true Yes','y_ture No']\n",
    "\n",
    "annot_kws={'fontsize':20, \n",
    "           'fontstyle':'italic',  \n",
    "           'color':\"k\",\n",
    "           'alpha':1, \n",
    "           'verticalalignment':'center'}\n",
    "\n",
    "sns.heatmap(dt_confusion/np.sum(dt_confusion), annot=True, \n",
    "            fmt='.2%', cmap='Blues',\n",
    "           xticklabels = xticklables,\n",
    "           yticklabels = yticklables,\n",
    "           annot_kws = annot_kws)"
   ]
  },
  {
   "cell_type": "markdown",
   "metadata": {},
   "source": [
    "## E7. Deployment"
   ]
  },
  {
   "cell_type": "code",
   "execution_count": 49,
   "metadata": {},
   "outputs": [
    {
     "data": {
      "text/plain": [
       "DecisionTreeClassifier(class_weight=None, criterion='gini', max_depth=4,\n",
       "                       max_features='sqrt', max_leaf_nodes=None,\n",
       "                       min_impurity_decrease=0.0, min_impurity_split=None,\n",
       "                       min_samples_leaf=7, min_samples_split=2,\n",
       "                       min_weight_fraction_leaf=0.0, presort=False,\n",
       "                       random_state=0, splitter='best')"
      ]
     },
     "execution_count": 49,
     "metadata": {},
     "output_type": "execute_result"
    }
   ],
   "source": [
    "Decision_Trees = DecisionTreeClassifier(criterion='gini', max_depth = 4,\n",
    "                                max_features='sqrt', min_samples_leaf=7,\n",
    "                                min_samples_split = 2, random_state=0)\n",
    "Decision_Trees.fit(features, label)"
   ]
  },
  {
   "cell_type": "markdown",
   "metadata": {},
   "source": [
    "# Model Implementation"
   ]
  },
  {
   "cell_type": "markdown",
   "metadata": {},
   "source": [
    "### Six Steps of Model Implementation\n",
    "###### 1. Load in the new data \n",
    "###### 2. Encoding categorical data type\n",
    "###### 3. Setting features and label\n",
    "###### 4. Setting up Folds and Cross Validaion\n",
    "###### 5. Model prediction\n",
    "###### 6. Evaluation using the confusion matrix"
   ]
  },
  {
   "cell_type": "markdown",
   "metadata": {},
   "source": [
    "### 1. Load in the new data "
   ]
  },
  {
   "cell_type": "code",
   "execution_count": null,
   "metadata": {},
   "outputs": [],
   "source": [
    "new_df = pd.read_csv('')"
   ]
  },
  {
   "cell_type": "markdown",
   "metadata": {},
   "source": [
    "### 2. Encoding categorical data type"
   ]
  },
  {
   "cell_type": "code",
   "execution_count": null,
   "metadata": {},
   "outputs": [],
   "source": [
    "lb_make = LabelEncoder()\n",
    "\n",
    "lb_make = LabelEncoder()\n",
    "df[\"x\"] = lb_make.fit_transform(df[\"x\"])\n",
    "df[\"z\"] = lb_make.fit_transform(df[\"z\"])\n",
    "df[\"w\"] = lb_make.fit_transform(df[\"w\"])\n",
    "df[\"a\"] = lb_make.fit_transform(df[\"a\"])\n",
    "\n",
    "df['y'] = lb_make.fit_transform(df['y'])"
   ]
  },
  {
   "cell_type": "markdown",
   "metadata": {},
   "source": [
    "### 3. Setting features and label"
   ]
  },
  {
   "cell_type": "code",
   "execution_count": null,
   "metadata": {},
   "outputs": [],
   "source": [
    "label = df['y']\n",
    "\n",
    "features = list(zip(df[\"x\"],df[\"z\"],df[\"w\"],\n",
    "                    df['a'], df[\"b\"]))"
   ]
  },
  {
   "cell_type": "markdown",
   "metadata": {},
   "source": [
    "### 4. Setting up Folds and Cross Validaion"
   ]
  },
  {
   "cell_type": "code",
   "execution_count": null,
   "metadata": {},
   "outputs": [],
   "source": [
    "folds = KFold(n_splits=5, shuffle=True, random_state=0)\n",
    "dc = dummy.DummyClassifier()\n",
    "\n",
    "dt = DecisionTreeClassifier(criterion='gini', max_depth = 4,\n",
    "                                max_features='sqrt', min_samples_leaf=7,\n",
    "                                min_samples_split = 2, random_state=0)\n",
    "\n",
    "dt_scores = cross_val_score(dt, features, label, scoring='precision', cv=folds)\n",
    "\n",
    "print(\"Mean DT Accuracy:\", np.mean(dt_scores))"
   ]
  },
  {
   "cell_type": "markdown",
   "metadata": {},
   "source": [
    "### 5. Model prediction"
   ]
  },
  {
   "cell_type": "code",
   "execution_count": null,
   "metadata": {},
   "outputs": [],
   "source": [
    "dt_pred = cross_val_predict(dt, features, label, cv=folds)\n",
    "print(dt_pred)\n",
    "\n",
    "dt_pred_matrix = confusion_matrix(label, dt_pred)\n",
    "print(dt_pred_matrix)"
   ]
  },
  {
   "cell_type": "markdown",
   "metadata": {},
   "source": [
    "### 6. Evaluation using the confusion matrix"
   ]
  },
  {
   "cell_type": "code",
   "execution_count": null,
   "metadata": {},
   "outputs": [],
   "source": [
    "print('*** Decision Trees ***')\n",
    "dt_confusion = pd.DataFrame(metrics.confusion_matrix(label, dt_pred, labels=[1,0]),\n",
    "                        index=['y_true Yes','y_ture No'],\n",
    "                        columns=['y_predict Yes','y_predict No'])\n",
    "print(dt_confusion)\n",
    "print('=========================================================')\n",
    "print(classification_report(label, dt_pred))"
   ]
  },
  {
   "cell_type": "code",
   "execution_count": null,
   "metadata": {},
   "outputs": [],
   "source": [
    "plt.figure(figsize=(10,6))\n",
    "xticklables = ['y_predict Yes','y_predict No']\n",
    "yticklables = ['y_true Yes','y_ture No']\n",
    "\n",
    "annot_kws={'fontsize':20, \n",
    "           'fontstyle':'italic',  \n",
    "           'color':\"k\",\n",
    "           'alpha':1, \n",
    "           'verticalalignment':'center'}\n",
    "\n",
    "sns.heatmap(dt_confusion/np.sum(dt_confusion), annot=True, \n",
    "            fmt='.2%', cmap='Blues',\n",
    "           xticklabels = xticklables,\n",
    "           yticklabels = yticklables,\n",
    "           annot_kws = annot_kws)"
   ]
  }
 ],
 "metadata": {
  "kernelspec": {
   "display_name": "Python 3",
   "language": "python",
   "name": "python3"
  },
  "language_info": {
   "codemirror_mode": {
    "name": "ipython",
    "version": 3
   },
   "file_extension": ".py",
   "mimetype": "text/x-python",
   "name": "python",
   "nbconvert_exporter": "python",
   "pygments_lexer": "ipython3",
   "version": "3.7.6"
  }
 },
 "nbformat": 4,
 "nbformat_minor": 2
}
